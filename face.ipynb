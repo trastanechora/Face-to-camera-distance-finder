{
 "cells": [
  {
   "cell_type": "markdown",
   "metadata": {},
   "source": [
    "<hr>\n",
    "<br>\n",
    "\n",
    "<h1 style=\"text-align: center; color: orange;\">Face to Camera Distance Finder</h1>\n",
    "<h4 style=\"text-align: center\">Applikasi pengukur jarak antara wajah dan kamera webcam</h4>\n",
    "<p style=\"text-align: right\">24-11-2018</p>\n",
    "\n",
    "<br>\n",
    "<hr>"
   ]
  },
  {
   "cell_type": "code",
   "execution_count": 1,
   "metadata": {},
   "outputs": [],
   "source": [
    "import cv2"
   ]
  },
  {
   "cell_type": "markdown",
   "metadata": {},
   "source": [
    "Pertama-tama yang harus dilakukan adalah mengimport module opencv2, jika belum terinstall di local machine maka jalankan ``pip install opencv-python``"
   ]
  },
  {
   "cell_type": "code",
   "execution_count": 2,
   "metadata": {},
   "outputs": [],
   "source": [
    "cap = cv2.VideoCapture(0)\n",
    "ret = cap.set(cv2.CAP_PROP_FRAME_WIDTH, 1280)\n",
    "ret = cap.set(cv2.CAP_PROP_FRAME_HEIGHT, 640)\n",
    "face_cascade = cv2.CascadeClassifier('haarcascade_frontalface_default.xml')"
   ]
  },
  {
   "cell_type": "markdown",
   "metadata": {},
   "source": [
    "Kita bisa mensetting manual lebar frame yang akan muncul pada layar monitor. Load file cascade yang berisi tentang data hasil training pendeteksi wajah, file tersebut tersedia di situs opencv namun di repo ini sudah saya sertakan."
   ]
  },
  {
   "cell_type": "code",
   "execution_count": 3,
   "metadata": {},
   "outputs": [],
   "source": [
    "distance = 0"
   ]
  },
  {
   "cell_type": "markdown",
   "metadata": {},
   "source": [
    "Deklarasi terlebih dahulu variabel ``distance`` kemudian bikin fungsi yang akan menghitung jarak antara wajah dengan kamera. Menggunakan rumus fisika optik, perbandingan rata-rata jarak mata kanan-kiri manusia dengan resolusi yang terekam pada kamera maka bisa ditemukan perbandingan jarak tersebut."
   ]
  },
  {
   "cell_type": "code",
   "execution_count": 4,
   "metadata": {},
   "outputs": [],
   "source": [
    "def drawBoxAndWriteText(findfaces):\n",
    "    for (x, y, w, h) in findfaces:\n",
    "        \n",
    "        ## Menghitung Jarak ##\n",
    "        eyeradius = w / 20\n",
    "        yeye = y + h/3\n",
    "        reye = x + (w/2) - (w/5)\n",
    "        leye = x + (w/2) + (w/5)\n",
    "        space = leye - reye\n",
    "        f = 690\n",
    "        r = 10\n",
    "        distance = f * r / space\n",
    "        distance_in_cm = int(distance)\n",
    "        ##\n",
    "        \n",
    "        cv2.rectangle(color, (x, y), (x+w, y+h), (239, 246, 255), 2)\n",
    "        cv2.putText(color, 'The distance is: ' + str(distance_in_cm) + ' cm', (x+5, y+h-5),\n",
    "                   cv2.FONT_HERSHEY_SIMPLEX, 0.35, (239, 246, 255))\n",
    "        cv2.circle(color, (int(reye), int(yeye)), (int(eyeradius)), (239, 246, 255), -1)\n",
    "        cv2.circle(color, (int(leye), int(yeye)), (int(eyeradius)), (239, 246, 255), -1)\n"
   ]
  },
  {
   "cell_type": "code",
   "execution_count": null,
   "metadata": {},
   "outputs": [],
   "source": [
    "while(True):\n",
    "    ret, color = cap.read()\n",
    "    gray = cv2.cvtColor(color, cv2.COLOR_BGR2GRAY)\n",
    "    faces = face_cascade.detectMultiScale(gray, 1.3, 5)\n",
    "    drawBoxAndWriteText(faces)\n",
    "    cv2.imshow('color', color)\n",
    "    if cv2.waitKey(1) & 0xFF == ord('q'):\n",
    "        break\n",
    "        \n",
    "cap.release()"
   ]
  },
  {
   "cell_type": "markdown",
   "metadata": {},
   "source": [
    "Jalankan fungsi loop di atas untuk menjalankan aplikasi dan ketika inin menutup aplikasi maka tekan tombol ``q`` pada keyboard."
   ]
  },
  {
   "cell_type": "markdown",
   "metadata": {},
   "source": [
    "Sumber teori algoritma penghitungan: http://emaraic.com/blog/distance-measurement\n",
    "\n",
    "<p><strong>Important Note:</strong><i> Nilai f akan berubah-berubah untuk setiap device. Maka harus dicari dulu manual.</i></p>"
   ]
  },
  {
   "cell_type": "code",
   "execution_count": null,
   "metadata": {},
   "outputs": [],
   "source": []
  }
 ],
 "metadata": {
  "kernelspec": {
   "display_name": "Python 3",
   "language": "python",
   "name": "python3"
  },
  "language_info": {
   "codemirror_mode": {
    "name": "ipython",
    "version": 3
   },
   "file_extension": ".py",
   "mimetype": "text/x-python",
   "name": "python",
   "nbconvert_exporter": "python",
   "pygments_lexer": "ipython3",
   "version": "3.6.7"
  }
 },
 "nbformat": 4,
 "nbformat_minor": 2
}
